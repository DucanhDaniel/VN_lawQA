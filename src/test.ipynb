{
 "cells": [
  {
   "cell_type": "code",
   "execution_count": 1,
   "id": "d8a95cbc",
   "metadata": {},
   "outputs": [
    {
     "name": "stdout",
     "output_type": "stream",
     "text": [
      "d:\\MachineLearning\\re_rag\\src\n"
     ]
    }
   ],
   "source": [
    "# Trong notebook\n",
    "import os\n",
    "print(os.getcwd())  # Xem thư mục làm việc hiện tại"
   ]
  },
  {
   "cell_type": "code",
   "execution_count": 3,
   "id": "2489a48d",
   "metadata": {},
   "outputs": [
    {
     "name": "stdout",
     "output_type": "stream",
     "text": [
      "d:\\MachineLearning\\re_rag\n"
     ]
    },
    {
     "name": "stderr",
     "output_type": "stream",
     "text": [
      "d:\\Anaconda\\envs\\rag_env\\lib\\site-packages\\IPython\\core\\magics\\osm.py:417: UserWarning: This is now an optional IPython functionality, setting dhist requires you to install the `pickleshare` library.\n",
      "  self.shell.db['dhist'] = compress_dhist(dhist)[-100:]\n"
     ]
    }
   ],
   "source": [
    "%cd .."
   ]
  },
  {
   "cell_type": "code",
   "execution_count": 4,
   "id": "6973401e",
   "metadata": {},
   "outputs": [
    {
     "name": "stdout",
     "output_type": "stream",
     "text": [
      "Hiến pháp Việt Nam thể chế hóa Cương lĩnh xây dựng đất nước trong thời kỳ quá độ lên chủ nghĩa xã hội. Nó kế thừa Hiến pháp năm 1946, Hiến pháp năm 1959, Hiến pháp năm 1980 và Hiến pháp năm 1992. Nhân dân Việt Nam xây dựng, thi hành và bảo vệ Hiến pháp này vì mục tiêu dân giàu, nước.\n",
      "Hiến pháp Việt Nam công nhận, tôn trọng, bảo vệ và đảm bảo các quyền con người, quyền công dân về chính trị, dân sự, kinh tế, văn hóa, xã hội theo Hiến pháp và pháp luật. Quyền con người, quyền công dân chỉ có thể bị hạn chế theo luật vì các lý do được quy định rõ. Việc thực hiện các quyền này không được xâm phạm lợi ích quốc gia, dân tộc, quyền và lợi ích hợp pháp của người khác.\n"
     ]
    }
   ],
   "source": [
    "from services.qa_service import QAService\n",
    "# from core.vector_store import get_vectorstore\n",
    "test = QAService()\n",
    "print(test.get_chat_response(\"Giới thiệu hiến pháp Việt Nam\", \"0\"))\n",
    "\n",
    "print(test.get_chat_response(\"Hiến pháp Việt Nam quy định như thế nào về quyền con người?\", \"0\"))"
   ]
  }
 ],
 "metadata": {
  "kernelspec": {
   "display_name": "rag_env",
   "language": "python",
   "name": "python3"
  },
  "language_info": {
   "codemirror_mode": {
    "name": "ipython",
    "version": 3
   },
   "file_extension": ".py",
   "mimetype": "text/x-python",
   "name": "python",
   "nbconvert_exporter": "python",
   "pygments_lexer": "ipython3",
   "version": "3.10.18"
  }
 },
 "nbformat": 4,
 "nbformat_minor": 5
}
