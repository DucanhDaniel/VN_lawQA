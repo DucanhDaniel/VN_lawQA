{
 "cells": [
  {
   "cell_type": "code",
   "execution_count": 7,
   "id": "0973515b",
   "metadata": {},
   "outputs": [
    {
     "name": "stdout",
     "output_type": "stream",
     "text": [
      "d:\\MachineLearning\\re_rag\n"
     ]
    },
    {
     "name": "stderr",
     "output_type": "stream",
     "text": [
      "d:\\Anaconda\\envs\\rag_env\\lib\\site-packages\\IPython\\core\\magics\\osm.py:417: UserWarning: This is now an optional IPython functionality, setting dhist requires you to install the `pickleshare` library.\n",
      "  self.shell.db['dhist'] = compress_dhist(dhist)[-100:]\n"
     ]
    }
   ],
   "source": [
    "%cd .."
   ]
  },
  {
   "cell_type": "code",
   "execution_count": 9,
   "id": "2617dac0",
   "metadata": {},
   "outputs": [
    {
     "name": "stdout",
     "output_type": "stream",
     "text": [
      "Các bước sơ cấp cứu bao gồm lập kế hoạch, thực hiện sơ cấp cứu và hỗ trợ nạn nhân như hà hơi thổi ngạt, ép tim ngoài lồng ngực. Sau đó, cần đánh giá lại kết quả cấp cứu và thông báo cho gia đình nạn nhân. Cuối cùng, cần trấn an nạn nhân và hoàn tất thủ tục báo cáo sự việc.\n",
      "Nhiệm vụ của người cấp cứu là để nạn nhân ở vị trí cấp cứu an toàn, gọi người xung quanh trợ giúp, và cấp cứu ban đầu cho nạn nhân.\n"
     ]
    }
   ],
   "source": [
    "from services.qa_service import QAService\n",
    "# from core.vector_store import get_vectorstore\n",
    "test = QAService()\n",
    "print(test.get_chat_response(\"Các bước sơ cấp cứu bao gồm những gì?\", \"0\"))\n",
    "\n",
    "print(test.get_chat_response(\"Nhiệm vụ của người cấp cứu là gì?\", \"0\"))"
   ]
  },
  {
   "cell_type": "code",
   "execution_count": null,
   "id": "fc47b486",
   "metadata": {},
   "outputs": [
    {
     "name": "stdout",
     "output_type": "stream",
     "text": [
      "Để áp dụng phương pháp thổi ngạt, trước tiên cần đảm bảo đường thở của nạn nhân thông thoáng. Sau đó, thực hiện thổi ngạt 5 nhịp ban đầu bằng phương pháp miệng-miệng, bịt mũi nạn nhân và thổi chậm 1-1,5 giây để lồng ngực di động như bình thường. Giữa các lần thổi, người cấp cứu nên hít thở để cung cấp thêm oxy cho nạn nhân.\n"
     ]
    }
   ],
   "source": [
    "print(test.get_chat_response(\"Làm thế nào để áp dụng phương pháp thổi ngạt?\", \"0\"))"
   ]
  }
 ],
 "metadata": {
  "kernelspec": {
   "display_name": "rag_env",
   "language": "python",
   "name": "python3"
  },
  "language_info": {
   "codemirror_mode": {
    "name": "ipython",
    "version": 3
   },
   "file_extension": ".py",
   "mimetype": "text/x-python",
   "name": "python",
   "nbconvert_exporter": "python",
   "pygments_lexer": "ipython3",
   "version": "3.10.18"
  }
 },
 "nbformat": 4,
 "nbformat_minor": 5
}
